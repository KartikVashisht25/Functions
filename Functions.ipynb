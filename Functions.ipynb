{
  "nbformat": 4,
  "nbformat_minor": 0,
  "metadata": {
    "colab": {
      "provenance": []
    },
    "kernelspec": {
      "name": "python3",
      "display_name": "Python 3"
    },
    "language_info": {
      "name": "python"
    }
  },
  "cells": [
    {
      "cell_type": "markdown",
      "source": [
        "#FUNCTIONS THEORY QUESTIONS"
      ],
      "metadata": {
        "id": "Kv2ZeyHZGUSj"
      }
    },
    {
      "cell_type": "markdown",
      "source": [
        "1. What is the difference between a function and a method in Python?\n",
        "   - Functions and methods in Python are both blocks of code that perform specific tasks. The key difference between them lies in their scope and association:\n",
        "\n",
        "   - Functions are independent, self-contained blocks of code that can be called from anywhere in a program. They are not bound to any class or object.\n",
        "\n",
        "   - Methods, on the other hand, are functions that are associated with a particular class or object. They are defined inside a class and are called on an object of that class. The first parameter of a method is always \"self\", which refers to the instance  of the class.\n",
        "\n",
        "\n",
        "   "
      ],
      "metadata": {
        "id": "t_xUb03cGY8i"
      }
    },
    {
      "cell_type": "code",
      "execution_count": null,
      "metadata": {
        "colab": {
          "base_uri": "https://localhost:8080/"
        },
        "id": "y0pjaJOCF8g-",
        "outputId": "5a0d764b-edbd-4ea4-a443-b5bb198efb51"
      },
      "outputs": [
        {
          "output_type": "stream",
          "name": "stdout",
          "text": [
            "Hello, John\n",
            "Hello, John\n"
          ]
        }
      ],
      "source": [
        "# 1. What is the difference between a function and a method in Python?\n",
        "def greet(name):\n",
        "    print(\"Hello, \" + name)\n",
        "greet(\"John\")\n",
        "class Person:\n",
        "    def __init__(self, name):\n",
        "        self.name = name\n",
        "    def greet(self):\n",
        "        print(\"Hello, \" + self.name)\n",
        "person = Person(\"John\")\n",
        "person.greet()"
      ]
    },
    {
      "cell_type": "markdown",
      "source": [
        "2.  Explain the concept of function arguments and parameters in Python.\n",
        "    - In Python, functions use parameters to receive values, known as arguments, when called. Parameters are variables defined in the function definition, while arguments are values passed to the function.\n",
        "\n",
        "  -Think of it like sending a letter:\n",
        "\n",
        "  - Parameters are the address on the envelope (defined by the function).\n",
        "  - Arguments are the letter itself (values passed to the function).\n"
      ],
      "metadata": {
        "id": "eYfdTY1FIzbF"
      }
    },
    {
      "cell_type": "code",
      "source": [
        "# 2.Explain the concept of function arguments and parameters in Python.\n",
        "def greet(name, age):\n",
        "    print(f\"Hello, {name}! You are {age} years old.\")\n",
        "greet(\"KARTIK\", 21)"
      ],
      "metadata": {
        "colab": {
          "base_uri": "https://localhost:8080/"
        },
        "id": "weK1FrBnIv7b",
        "outputId": "d164f8fd-79b3-4814-d1f0-c4a933326729"
      },
      "execution_count": null,
      "outputs": [
        {
          "output_type": "stream",
          "name": "stdout",
          "text": [
            "Hello, KARTIK! You are 21 years old.\n"
          ]
        }
      ]
    },
    {
      "cell_type": "markdown",
      "source": [
        "\n",
        "3. What are the different ways to define and call a function in Python?\n",
        "\n",
        "   ->**Defining Functions**\n",
        "  - Standard Function Definition: Use the def keyword followed by the function name and parameters.\n",
        "  - Lambda Functions: Small anonymous functions defined using the lambda keyword.\n",
        "  - Nested Functions: Functions defined inside another function.\n",
        "\n",
        "   ->**Calling Functions**\n",
        "  - Direct Call: Call the function by its name followed by parentheses containing arguments.\n",
        "  - Variable Reference: Store the function in a variable and call it using the variable name.\n",
        "  - Higher-Order Functions: Pass functions as arguments to other functions or return functions from functions.\n",
        "\n"
      ],
      "metadata": {
        "id": "0gIsHp52K1dR"
      }
    },
    {
      "cell_type": "code",
      "source": [
        "      def greet(name):\n",
        "    print(f\"Hello, {name}!\")\n",
        "\n",
        "    greet = lambda name: print(f\"Hello, {name}!\")\n",
        "\n",
        "\n",
        "    def outer():\n",
        "    def inner(name):\n",
        "        print(f\"Hello, {name}!\")\n",
        "    inner(\"John\")\n",
        "\n",
        "\n",
        "    greet(\"John\")\n",
        "\n",
        "\n",
        "\n",
        "    func = greet\n",
        "func(\"John\")\n",
        "\n",
        "\n",
        "\n",
        "\n",
        "def wrapper(func):\n",
        "    def inner(name):\n",
        "        print(\"Before calling the function.\")\n",
        "        func(name)\n",
        "        print(\"After calling the function.\")\n",
        "    return inner\n",
        "\n",
        "@wrapper\n",
        "def greet(name):\n",
        "    print(f\"Hello, {name}!\")\n",
        "\n",
        "greet(\"John\")\n"
      ],
      "metadata": {
        "id": "67FZz_c_L60G"
      },
      "execution_count": null,
      "outputs": []
    },
    {
      "cell_type": "markdown",
      "source": [
        "4. What is the purpose of the return statement in a Python function?\n",
        "   - Returning Values\n",
        "The primary purpose of the return statement is to exit the function and return a value to the caller. This value can be any Python object, such as a number, string, list, or dictionary.\n",
        "\n",
        "  - Exiting the Function\n",
        "When a return statement is encountered, the function execution is terminated, and control is returned to the caller.\n",
        "\n",
        "  - Specifying Default Return Values\n",
        "If a function doesn't explicitly return a value using the return statement, it will implicitly return None. However, you can use the return statement to specify a default return value.\n",
        "\n"
      ],
      "metadata": {
        "id": "LfBOC6aBQDu6"
      }
    },
    {
      "cell_type": "code",
      "source": [
        "# 4. What is the purpose of the return statement in a Python function?\n",
        "def greet(name):\n",
        "    message = f\"Hello, {name}!\"\n",
        "    return message\n",
        "\n",
        "print(greet(\"Kartik\"))\n",
        "\n"
      ],
      "metadata": {
        "colab": {
          "base_uri": "https://localhost:8080/"
        },
        "id": "krEUD6mmQVba",
        "outputId": "3ade2b0d-3498-418c-b0c5-007cb727ccc0"
      },
      "execution_count": 1,
      "outputs": [
        {
          "output_type": "stream",
          "name": "stdout",
          "text": [
            "Hello, Kartik!\n"
          ]
        }
      ]
    },
    {
      "cell_type": "markdown",
      "source": [
        "5.  What are iterators in Python and how do they differ from iterables?\n",
        "- Iterables\n",
        "Iterables are objects that can be iterated over, meaning they can be looped through or have their elements accessed one at a time. Examples of iterables include:\n",
        "\n",
        " - Lists: [1, 2, 3]\n",
        "\n",
        " - Tuples: (1, 2, 3)\n",
        "\n",
        " - Strings: \"hello\"\n",
        "\n",
        " - Dictionaries: {\"a\": 1, \"b\": 2}\n",
        "\n",
        " - Sets: {1, 2, 3}\n",
        "\n",
        "- Iterators\n",
        "Iterators are objects that keep track of their position within an iterable and provide a way to access the elements of the iterable one at a time. When an iterator is created from an iterable, it keeps track of its current position and returns the next element in the sequence when next() is called.\n",
        "\n",
        " - Key differences between iterators and iterables:\n",
        "1. Iterables can be looped over multiple times, whereas iterators can only be looped over once.\n",
        "2. Iterables do not maintain a state, whereas iterators maintain a state (i.e., their current position).\n",
        "3. Iterables can be converted to iterators using the iter() function.\n"
      ],
      "metadata": {
        "id": "ilEct7-ZQgZp"
      }
    },
    {
      "cell_type": "code",
      "source": [
        "# 5. What are iterators in Python and how do they differ from iterables?\n",
        "\n",
        "my_list = [1, 2, 3]\n",
        "\n",
        "\n",
        "my_iterator = iter(my_list)\n",
        "\n",
        "\n",
        "print(next(my_iterator))\n",
        "print(next(my_iterator))\n",
        "print(next(my_iterator))\n",
        "\n",
        "\n",
        "try:\n",
        "    print(next(my_iterator))\n",
        "except StopIteration:\n",
        "    print(\"Iterator exhausted\")\n",
        "\n",
        "\n",
        "for element in my_list:\n",
        "    print(element)\n"
      ],
      "metadata": {
        "colab": {
          "base_uri": "https://localhost:8080/"
        },
        "id": "aeyKY_xFQ7SZ",
        "outputId": "6d5c6de8-ba18-4736-dcb8-a36a2d0f8e99"
      },
      "execution_count": 3,
      "outputs": [
        {
          "output_type": "stream",
          "name": "stdout",
          "text": [
            "1\n",
            "2\n",
            "3\n",
            "Iterator exhausted\n",
            "1\n",
            "2\n",
            "3\n"
          ]
        }
      ]
    },
    {
      "cell_type": "markdown",
      "source": [
        "6. Explain the concept of generators in Python and how they are defined?\n",
        "- Generators in Python\n",
        "\n",
        "  - Generators are a type of iterable that compute values on-the-fly, making them memory-efficient for large datasets or infinite sequences.\n",
        "\n",
        "  - Defining Generators\n",
        "\n",
        "  - Generators are defined using a function with the yield keyword instead of return. Here's an example:\n",
        "\n",
        "\n",
        "- Using Generators\n",
        "  - You can iterate over a generator using a for loop or retrieve values using next(). Generators are useful for:\n",
        "\n",
        "  - Memory efficiency\n",
        "  - Lazy evaluation\n",
        "  - Complex iteration logic\n",
        "\n",
        "- Best practices:\n",
        "\n",
        "  - Use generators for large datasets or infinite sequences\n",
        "  - Avoid using generators for simple iteration"
      ],
      "metadata": {
        "id": "uqwJyNdnRHKP"
      }
    },
    {
      "cell_type": "code",
      "source": [
        "# 6. Explain the concept of generators in Python and how they are defined?\n",
        "def my_generator():\n",
        "    for i in range(10):\n",
        "        yield i\n",
        "\n"
      ],
      "metadata": {
        "id": "4zbRNaZOV3vL"
      },
      "execution_count": 5,
      "outputs": []
    },
    {
      "cell_type": "markdown",
      "source": [
        "7.  What are the advantages of using generators over regular functions?\n",
        "- 1. Memory Efficiency: Generators store only the current state, not the entire sequence, making them ideal for large datasets.\n",
        "\n",
        "- 2. Lazy Evaluation: Generators compute values on-the-fly, reducing unnecessary computations.\n",
        "\n",
        "- 3. Flexibility: Generators can be used to implement complex iteration logic.\n",
        "\n",
        "- 4. Improved Performance: Generators can improve performance by avoiding the need to create and store large intermediate results.\n",
        "\n",
        "- 5. Infinite Sequences: Generators can be used to create infinite sequences, which is not possible with regular functions.\n",
        "\n",
        "- 6. Pause and Resume: Generators can pause and resume execution, allowing for cooperative multitasking."
      ],
      "metadata": {
        "id": "kiw4J6_3XBJY"
      }
    },
    {
      "cell_type": "code",
      "source": [
        "# 7.  What are the advantages of using generators over regular functions?\n",
        "#Regular Function\n",
        "\n",
        "def fibonacci(n):\n",
        "    fib_sequence = [0, 1]\n",
        "    while len(fib_sequence) < n:\n",
        "        fib_sequence.append(fib_sequence[-1] + fib_sequence[-2])\n",
        "    return fib_sequence\n",
        "\n",
        "print(fibonacci(10))\n",
        "\n",
        "\n",
        "#Generator Function\n",
        "\n",
        "def fibonacci_generator():\n",
        "    a, b = 0, 1\n",
        "    while True:\n",
        "        yield a\n",
        "        a, b = b, a + b\n",
        "\n",
        "fib_gen = fibonacci_generator()\n",
        "for _ in range(10):\n",
        "    print(next(fib_gen))\n",
        "\n"
      ],
      "metadata": {
        "colab": {
          "base_uri": "https://localhost:8080/"
        },
        "id": "8ZRLsLqZXR93",
        "outputId": "c031e54c-4aca-4c76-cd4f-9d80ebe628eb"
      },
      "execution_count": 6,
      "outputs": [
        {
          "output_type": "stream",
          "name": "stdout",
          "text": [
            "[0, 1, 1, 2, 3, 5, 8, 13, 21, 34]\n",
            "0\n",
            "1\n",
            "1\n",
            "2\n",
            "3\n",
            "5\n",
            "8\n",
            "13\n",
            "21\n",
            "34\n"
          ]
        }
      ]
    },
    {
      "cell_type": "markdown",
      "source": [
        "8. What is a lambda function in Python and when is it typically used?\n",
        "- Lambda Function in Python\n",
        "\n",
        " - A lambda function, also known as an anonymous function, is a small, single-purpose function that can be defined inline within a larger expression.\n",
        "\n",
        "- Characteristics:\n",
        "\n",
        "1. Anonymous: Lambda functions do not have a declared name.\n",
        "2. Small: Lambda functions typically consist of a single expression.\n",
        "3. Single-purpose: Lambda functions are designed to perform a specific task.\n",
        "\n",
        "- When to Use Lambda Functions:\n",
        "\n",
        "1. Small, one-time-use functions\n",
        "2. Passing functions as arguments to higher-order functions\n",
        "3. Creating functions on the fly\n",
        "\n",
        "- Benefits:\n",
        "\n",
        "1. Concise code\n",
        "2. Improved readability\n",
        "3. Reduced boilerplate code\n",
        "4. Flexibility and expressiveness\n",
        "\n",
        "- Common Use Cases:\n",
        "\n",
        "1. Data processing and transformation\n",
        "2. Event handling and callbacks\n",
        "3. Functional programming and map-reduce operations"
      ],
      "metadata": {
        "id": "FEfuL1SvXf8v"
      }
    },
    {
      "cell_type": "code",
      "source": [
        "# 8.What is a lambda function in Python and when is it typically used?\n",
        "double = lambda x: x * 2\n",
        "\n",
        "\n",
        "result = double(5)\n",
        "\n",
        "\n",
        "print(\"Double of 5 is:\", result)\n",
        "\n"
      ],
      "metadata": {
        "id": "t9XJrVFkXfuA"
      },
      "execution_count": null,
      "outputs": []
    },
    {
      "cell_type": "markdown",
      "source": [
        "9.  Explain the purpose and usage of the map() function in Python.\n",
        "- Purpose of `map()`\n",
        "\n",
        "  - The map() function is a built-in function in Python that applies a given function to each item of an iterable (such as a list, tuple, or string) and returns a map object.\n",
        "\n",
        "- Usage of `map()`\n",
        "\n",
        "  - The map() function takes two arguments:\n",
        "\n",
        "1. Function: The function to be applied to each item of the iterable.\n",
        "2. Iterable: The iterable to which the function is to be applied.\n",
        "\n",
        "- Benefits of `map()`\n",
        "\n",
        "  - Using map() provides several benefits, including:\n",
        "\n",
        "1. Concise code: map() allows you to write concise and expressive code.\n",
        "2. Efficient: map() is more efficient than using a for loop to apply a function to each item of an iterable.\n",
        "3. Flexible: map() can be used with any type of iterable and any type of function.\n",
        "\n",
        "- Common Use Cases\n",
        "\n",
        "  - map() is commonly used in a variety of situations, including:\n",
        "\n",
        "1. Data transformation and processing\n",
        "2. Applying a function to each item of a list or other iterable\n",
        "3. Creating new lists or other iterables by applying a function to an existing iterable."
      ],
      "metadata": {
        "id": "FobDYKDOYexp"
      }
    },
    {
      "cell_type": "code",
      "source": [
        "# 9.Explain the purpose and usage of the map() function in Python.\n",
        "\n",
        "def square(x):\n",
        "    return x ** 2\n",
        "\n",
        "\n",
        "numbers = [1, 2, 3, 4, 5]\n",
        "\n",
        "\n",
        "squared_numbers = list(map(square, numbers))\n",
        "\n",
        "\n",
        "print(squared_numbers)\n",
        "\n",
        "\n",
        "squared_numbers = list(map(lambda x: x ** 2, numbers))\n",
        "print(squared_numbers)\n"
      ],
      "metadata": {
        "colab": {
          "base_uri": "https://localhost:8080/"
        },
        "id": "WkV-y06ZY5Mx",
        "outputId": "73f1923c-c80f-47a0-af44-b9a554500998"
      },
      "execution_count": 7,
      "outputs": [
        {
          "output_type": "stream",
          "name": "stdout",
          "text": [
            "[1, 4, 9, 16, 25]\n",
            "[1, 4, 9, 16, 25]\n"
          ]
        }
      ]
    },
    {
      "cell_type": "markdown",
      "source": [
        "10. What is the difference between `map()`, `reduce()`, and `filter()` functions in Python?\n",
        "- The map(), reduce(), and filter() functions in Python are all part of the functional programming paradigm. They are used to process iterables (such as lists, tuples, or strings) in a declarative way.\n",
        "\n",
        "- *map()*: Applies a given function to each item of an iterable and returns a map object. It is used to transform or convert data from one form to another.\n",
        "- *reduce()*: Applies a given function to the items of an iterable, going from left to right, so as to reduce the iterable to a single output. It is used to combine or aggregate data.\n",
        "- *filter()*: Constructs an iterator from elements of an iterable for which a function returns True. It is used to select or filter data based on certain conditions.\n",
        "\n",
        "- These functions provide a concise and expressive way to process data in Python, making the code more readable and maintainable.\n",
        "\n"
      ],
      "metadata": {
        "id": "MPPqlKc2ZHIJ"
      }
    },
    {
      "cell_type": "code",
      "source": [
        "# 10. What is the difference between map(), reduce(), and filter() functions in Python?\n",
        "numbers = [1, 2, 3, 4, 5]\n",
        "\n",
        "\n",
        "squared_numbers = list(map(lambda x: x ** 2, numbers))\n",
        "print(squared_numbers)\n",
        "\n",
        "\n",
        "sum_of_numbers = reduce(lambda x, y: x + y, numbers)\n",
        "print(sum_of_numbers)\n",
        "\n",
        "\n",
        "even_numbers = list(filter(lambda x: x % 2 == 0, numbers))\n",
        "print(even_numbers)\n"
      ],
      "metadata": {
        "id": "B75vNm5tZsSI"
      },
      "execution_count": null,
      "outputs": []
    },
    {
      "cell_type": "markdown",
      "source": [
        "11.  Using pen & Paper write the internal mechanism for sum operation using  reduce function on this given\n",
        "list:[47,11,42,13];\n",
        "- The reduce function is a part of the functools module in Python. It applies a rolling computation to sequential pairs of values in a list. In the case of the sum operation, it applies the addition operation to each pair of elements in the list.\n",
        "\n"
      ],
      "metadata": {
        "id": "9popNOK8Z0iw"
      }
    },
    {
      "cell_type": "code",
      "source": [
        "# 11. Using pen & Paper write the internal mechanism for sum operation using reduce function on this given list:[47,11,42,13];\n",
        "\n",
        "\n",
        "numbers = [47, 11, 42, 13]\n",
        "def reduction_step(numbers):\n",
        "    result = numbers[0]\n",
        "    for num in numbers[1:]:\n",
        "        print(f\"Step: x = {result}, y = {num}, Result: x + y = {result + num}\")\n",
        "        result += num\n",
        "    return result\n",
        "result = reduction_step(numbers)\n",
        "print(f\"Final Result: {result}\")\n",
        "\n"
      ],
      "metadata": {
        "colab": {
          "base_uri": "https://localhost:8080/"
        },
        "id": "_pSOi1NeaEuY",
        "outputId": "f9840fde-dd45-4328-ccd8-0cfa4e55331f"
      },
      "execution_count": 13,
      "outputs": [
        {
          "output_type": "stream",
          "name": "stdout",
          "text": [
            "Step: x = 47, y = 11, Result: x + y = 58\n",
            "Step: x = 58, y = 42, Result: x + y = 100\n",
            "Step: x = 100, y = 13, Result: x + y = 113\n",
            "Final Result: 113\n"
          ]
        }
      ]
    },
    {
      "cell_type": "markdown",
      "source": [
        "# FUNCTIONS PRACTICAL QUESTIIONS"
      ],
      "metadata": {
        "id": "MPSFHCX4a9ri"
      }
    },
    {
      "cell_type": "code",
      "source": [
        "\"\"\"1.Write a Python function that takes a list of numbers as input and returns the sum of all even numbers in\n",
        "the list.\"\"\"\n",
        "\n",
        "def sum_even_numbers(numbers):\n",
        "    even_sum = 0\n",
        "    for num in numbers:\n",
        "        if num % 2 == 0:\n",
        "            print(f\"Adding {num} to the sum\")\n",
        "            even_sum += num\n",
        "    return even_sum\n",
        "\n",
        "\n",
        "numbers = [1, 2, 3, 4, 5, 6]\n",
        "result = sum_even_numbers(numbers)\n",
        "print(f\"Sum of even numbers: {result}\")\n"
      ],
      "metadata": {
        "colab": {
          "base_uri": "https://localhost:8080/"
        },
        "id": "N3mdrcJVbN4A",
        "outputId": "83ac8a39-a066-437c-ad5f-a0615a7eb944"
      },
      "execution_count": 14,
      "outputs": [
        {
          "output_type": "stream",
          "name": "stdout",
          "text": [
            "Adding 2 to the sum\n",
            "Adding 4 to the sum\n",
            "Adding 6 to the sum\n",
            "Sum of even numbers: 12\n"
          ]
        }
      ]
    },
    {
      "cell_type": "code",
      "source": [
        "#2.Create a Python function that accepts a string and returns the reverse of that string\n",
        "def reverse_string(input_str):\n",
        "    return input_str[::-1]\n",
        "\n",
        "\n",
        "input_str = \"Hello World!\"\n",
        "reversed_str = reverse_string(input_str)\n",
        "print(f\"Reversed string: {reversed_str}\")\n"
      ],
      "metadata": {
        "colab": {
          "base_uri": "https://localhost:8080/"
        },
        "id": "soNXTs9vbiop",
        "outputId": "2ab4121d-ec3f-46f4-ab7e-aae93c132328"
      },
      "execution_count": 15,
      "outputs": [
        {
          "output_type": "stream",
          "name": "stdout",
          "text": [
            "Reversed string: !dlroW olleH\n"
          ]
        }
      ]
    },
    {
      "cell_type": "code",
      "source": [
        "\"\"\" 3 .Implement a Python function that takes a list of integers and returns a new list containing the squares of\n",
        "each number.\"\"\"\n",
        "def square_numbers(numbers):\n",
        "\n",
        "    squared_numbers = [num ** 2 for num in numbers]\n",
        "    return squared_numbers\n",
        "\n",
        "\n",
        "numbers = [1, 2, 3, 4, 5]\n",
        "squared_numbers = square_numbers(numbers)\n",
        "print(f\"Squared numbers: {squared_numbers}\")\n",
        "\n",
        "\n",
        "def square_numbers_loop(numbers):\n",
        "    squared_numbers = []\n",
        "    for num in numbers:\n",
        "        squared_numbers.append(num ** 2)\n",
        "    return squared_numbers\n",
        "\n",
        "\n",
        "def square_numbers_map(numbers):\n",
        "    squared_numbers = list(map(lambda x: x ** 2, numbers))\n",
        "    return squared_numbers\n"
      ],
      "metadata": {
        "colab": {
          "base_uri": "https://localhost:8080/"
        },
        "id": "8Dc_9VIHbuRg",
        "outputId": "de4a97c6-4018-402a-fef3-2db4a70e4abf"
      },
      "execution_count": 16,
      "outputs": [
        {
          "output_type": "stream",
          "name": "stdout",
          "text": [
            "Squared numbers: [1, 4, 9, 16, 25]\n"
          ]
        }
      ]
    },
    {
      "cell_type": "code",
      "source": [
        "# 4. Write a Python function that checks if a given number is prime or not from 1 to 200.\n",
        "def check_prime(n):\n",
        "    if n <= 1:\n",
        "        return False\n",
        "    for i in range(2, int(n ** 0.5) + 1):\n",
        "        if n % i == 0:\n",
        "            return False\n",
        "    return True\n",
        "\n",
        "\n",
        "for i in range(1, 201):\n",
        "    if check_prime(i):\n",
        "        print(f\"{i} is a prime number\")\n",
        "\n",
        "\n",
        "def check_prime_optimized(n):\n",
        "    if n <= 1:\n",
        "        return False\n",
        "    if n == 2:\n",
        "        return True\n",
        "    if n % 2 == 0:\n",
        "        return False\n",
        "    max_divisor = int(n ** 0.5) + 1\n",
        "    for d in range(3, max_divisor, 2):\n",
        "        if n % d == 0:\n",
        "            return False\n",
        "    return True\n",
        "\n",
        "\n",
        "for i in range(1, 201):\n",
        "    if check_prime_optimized(i):\n",
        "        print(f\"{i} is a prime number\")\n"
      ],
      "metadata": {
        "colab": {
          "base_uri": "https://localhost:8080/"
        },
        "id": "mTBbMquXb-cy",
        "outputId": "780a3e39-b743-4898-9028-308da8775d44"
      },
      "execution_count": 17,
      "outputs": [
        {
          "output_type": "stream",
          "name": "stdout",
          "text": [
            "2 is a prime number\n",
            "3 is a prime number\n",
            "5 is a prime number\n",
            "7 is a prime number\n",
            "11 is a prime number\n",
            "13 is a prime number\n",
            "17 is a prime number\n",
            "19 is a prime number\n",
            "23 is a prime number\n",
            "29 is a prime number\n",
            "31 is a prime number\n",
            "37 is a prime number\n",
            "41 is a prime number\n",
            "43 is a prime number\n",
            "47 is a prime number\n",
            "53 is a prime number\n",
            "59 is a prime number\n",
            "61 is a prime number\n",
            "67 is a prime number\n",
            "71 is a prime number\n",
            "73 is a prime number\n",
            "79 is a prime number\n",
            "83 is a prime number\n",
            "89 is a prime number\n",
            "97 is a prime number\n",
            "101 is a prime number\n",
            "103 is a prime number\n",
            "107 is a prime number\n",
            "109 is a prime number\n",
            "113 is a prime number\n",
            "127 is a prime number\n",
            "131 is a prime number\n",
            "137 is a prime number\n",
            "139 is a prime number\n",
            "149 is a prime number\n",
            "151 is a prime number\n",
            "157 is a prime number\n",
            "163 is a prime number\n",
            "167 is a prime number\n",
            "173 is a prime number\n",
            "179 is a prime number\n",
            "181 is a prime number\n",
            "191 is a prime number\n",
            "193 is a prime number\n",
            "197 is a prime number\n",
            "199 is a prime number\n",
            "2 is a prime number\n",
            "3 is a prime number\n",
            "5 is a prime number\n",
            "7 is a prime number\n",
            "11 is a prime number\n",
            "13 is a prime number\n",
            "17 is a prime number\n",
            "19 is a prime number\n",
            "23 is a prime number\n",
            "29 is a prime number\n",
            "31 is a prime number\n",
            "37 is a prime number\n",
            "41 is a prime number\n",
            "43 is a prime number\n",
            "47 is a prime number\n",
            "53 is a prime number\n",
            "59 is a prime number\n",
            "61 is a prime number\n",
            "67 is a prime number\n",
            "71 is a prime number\n",
            "73 is a prime number\n",
            "79 is a prime number\n",
            "83 is a prime number\n",
            "89 is a prime number\n",
            "97 is a prime number\n",
            "101 is a prime number\n",
            "103 is a prime number\n",
            "107 is a prime number\n",
            "109 is a prime number\n",
            "113 is a prime number\n",
            "127 is a prime number\n",
            "131 is a prime number\n",
            "137 is a prime number\n",
            "139 is a prime number\n",
            "149 is a prime number\n",
            "151 is a prime number\n",
            "157 is a prime number\n",
            "163 is a prime number\n",
            "167 is a prime number\n",
            "173 is a prime number\n",
            "179 is a prime number\n",
            "181 is a prime number\n",
            "191 is a prime number\n",
            "193 is a prime number\n",
            "197 is a prime number\n",
            "199 is a prime number\n"
          ]
        }
      ]
    },
    {
      "cell_type": "code",
      "source": [
        " \"\"\"5 .Create an iterator class in Python that generates the Fibonacci sequence up to a specified number of\n",
        "terms.\"\"\"\n",
        "class FibonacciIterator:\n",
        "    def __init__(self, n):\n",
        "        self.n = n\n",
        "        self.a, self.b = 0, 1\n",
        "        self.count = 0\n",
        "\n",
        "    def __iter__(self):\n",
        "        return self\n",
        "\n",
        "    def __next__(self):\n",
        "        if self.count >= self.n:\n",
        "            raise StopIteration\n",
        "        result = self.a\n",
        "        self.a, self.b = self.b, self.a + self.b\n",
        "        self.count += 1\n",
        "        return result\n",
        "\n",
        "\n",
        "fib_iterator = FibonacciIterator(10)\n",
        "for num in fib_iterator:\n",
        "  print(num)\n"
      ],
      "metadata": {
        "colab": {
          "base_uri": "https://localhost:8080/"
        },
        "id": "TMvbbSlscNeq",
        "outputId": "cada94b8-c536-4737-f77f-36eaeb8f9f27"
      },
      "execution_count": 19,
      "outputs": [
        {
          "output_type": "stream",
          "name": "stdout",
          "text": [
            "0\n",
            "1\n",
            "1\n",
            "2\n",
            "3\n",
            "5\n",
            "8\n",
            "13\n",
            "21\n",
            "34\n"
          ]
        }
      ]
    },
    {
      "cell_type": "code",
      "source": [
        "# 6. Write a generator function in Python that yields the powers of 2 up to a given exponent.\n",
        "def powers_of_two(exponent):\n",
        "    for i in range(exponent + 1):\n",
        "        yield 2 ** i\n",
        "\n",
        "for power in powers_of_two(5):\n",
        "    print(power)\n",
        "\n"
      ],
      "metadata": {
        "colab": {
          "base_uri": "https://localhost:8080/"
        },
        "id": "BnndwdGnchWI",
        "outputId": "0286258a-687c-4221-f162-75a61ca3a89d"
      },
      "execution_count": 20,
      "outputs": [
        {
          "output_type": "stream",
          "name": "stdout",
          "text": [
            "1\n",
            "2\n",
            "4\n",
            "8\n",
            "16\n",
            "32\n"
          ]
        }
      ]
    },
    {
      "cell_type": "code",
      "source": [
        " # 7.Implement a generator function that reads a file line by line and yields each line as a string.\n",
        "def read_file_line_by_line(filename):\n",
        "    try:\n",
        "        with open(filename, 'r') as file:\n",
        "            for line in file:\n",
        "                yield line.strip()\n",
        "    except FileNotFoundError:\n",
        "        print(f\"File '{filename}' not found.\")\n",
        "\n",
        "\n",
        "filename = 'example.txt'\n",
        "for line in read_file_line_by_line(filename):\n",
        "    print(line)\n"
      ],
      "metadata": {
        "colab": {
          "base_uri": "https://localhost:8080/"
        },
        "id": "jFXEQcFicrtw",
        "outputId": "76de55ba-0a53-4623-b24a-891dc9598d74"
      },
      "execution_count": 23,
      "outputs": [
        {
          "output_type": "stream",
          "name": "stdout",
          "text": [
            "File 'example.txt' not found.\n"
          ]
        }
      ]
    },
    {
      "cell_type": "code",
      "source": [
        " # 8.Use a lambda function in Python to sort a list of tuples based on the second element of each tuple.\n",
        "\n",
        "\n",
        "tuples_list = [(3, 6), (1, 9), (2, 4), (5, 1), (7, 8)]\n",
        "\n",
        "\n",
        "sorted_tuples = sorted(tuples_list, key=lambda x: x[1])\n",
        "\n",
        "\n",
        "print(sorted_tuples)\n",
        "\n"
      ],
      "metadata": {
        "colab": {
          "base_uri": "https://localhost:8080/"
        },
        "id": "hTXu2IEPdU7x",
        "outputId": "1e97928d-34ea-42cd-9454-916102ffe82a"
      },
      "execution_count": 24,
      "outputs": [
        {
          "output_type": "stream",
          "name": "stdout",
          "text": [
            "[(5, 1), (2, 4), (3, 6), (7, 8), (1, 9)]\n"
          ]
        }
      ]
    },
    {
      "cell_type": "code",
      "source": [
        "# 9. Write a Python program that uses `map()` to convert a list of temperatures from Celsius to Fahrenheit.\n",
        "def celsius_to_fahrenheit(celsius):\n",
        "\n",
        "    return (celsius * 9/5) + 32\n",
        "\n",
        "celsius_temperatures = [0, 10, 20, 30, 40]\n",
        "\n",
        "\n",
        "fahrenheit_temperatures = list(map(celsius_to_fahrenheit, celsius_temperatures))\n",
        "\n",
        "\n",
        "print(\"Celsius Temperatures:\", celsius_temperatures)\n",
        "print(\"Fahrenheit Temperatures:\", fahrenheit_temperatures)\n",
        "\n"
      ],
      "metadata": {
        "colab": {
          "base_uri": "https://localhost:8080/"
        },
        "id": "UbpRFFjNd78K",
        "outputId": "b3dbd3c9-f16f-4c0a-910a-b14403bbb0c4"
      },
      "execution_count": 25,
      "outputs": [
        {
          "output_type": "stream",
          "name": "stdout",
          "text": [
            "Celsius Temperatures: [0, 10, 20, 30, 40]\n",
            "Fahrenheit Temperatures: [32.0, 50.0, 68.0, 86.0, 104.0]\n"
          ]
        }
      ]
    },
    {
      "cell_type": "code",
      "source": [
        "#10. Create a Python program that uses `filter()` to remove all the vowels from a given string.\n",
        "def remove_vowels(char):\n",
        "    \"\"\"Return True if the character is not a vowel.\"\"\"\n",
        "    vowels = 'aeiouAEIOU'\n",
        "    return char not in vowels\n",
        "\n",
        "\n",
        "input_string = \"Hello World\"\n",
        "\n",
        "\n",
        "result_string = ''.join(filter(remove_vowels, input_string))\n",
        "\n",
        "\n",
        "print(\"Original String:\", input_string)\n",
        "print(\"String without Vowels:\", result_string)\n"
      ],
      "metadata": {
        "colab": {
          "base_uri": "https://localhost:8080/"
        },
        "id": "3ufYXkU7eQTR",
        "outputId": "27705701-035b-421f-d061-dcc42dfe363a"
      },
      "execution_count": 27,
      "outputs": [
        {
          "output_type": "stream",
          "name": "stdout",
          "text": [
            "Original String: Hello World\n",
            "String without Vowels: Hll Wrld\n"
          ]
        }
      ]
    },
    {
      "cell_type": "code",
      "source": [
        "\"\"\"Imagine an accounting routine used in a book shop. It works on a list with sublists, which look like this:\n",
        "Order Number\n",
        "\n",
        "Book Title and Author\n",
        "\n",
        "Quantity\n",
        "\n",
        "4\n",
        "\n",
        "5\n",
        "\n",
        "3\n",
        "\n",
        "3\n",
        "\n",
        "Price per Item\n",
        "\n",
        "34587\n",
        "\n",
        "Learning Python, Mark Lutz\n",
        "\n",
        "40.95\n",
        "\n",
        "98762\n",
        "\n",
        "Programming Python, Mark Lutz\n",
        "\n",
        "56.80\n",
        "\n",
        "77226\n",
        "\n",
        "Head First Python, Paul Barry\n",
        "\n",
        "32.95\n",
        "\n",
        "88112\n",
        "\n",
        "Einführung in Python3, Bernd Klein\n",
        "\n",
        "24.99\n",
        "\n",
        "Write a Python program, which returns a list with 2-tuples. Each tuple consists of the order number and the\n",
        "product of the price per item and the quantity. The product should be increased by 10,- € if the value of the\n",
        "order is smaller than 100,00 €.\n",
        "\n",
        "Write a Python program using lambda and map\n",
        "\"\"\"\n",
        "orders = [\n",
        "    [4, \"34587 Learning Python, Mark Lutz\", 40.95, 3],\n",
        "    [5, \"98762 Programming Python, Mark Lutz\", 56.80, 3],\n",
        "    [3, \"77226 Head First Python, Paul Barry\", 32.95, 3],\n",
        "    [3, \"88112 Einführung in Python3, Bernd Klein\", 24.99, 3]\n",
        "]\n",
        "\n",
        "\n",
        "order_values = list(map(\n",
        "    lambda order: (order[0], order[2] * order[3] + (10 if order[2] * order[3] < 100 else 0)),\n",
        "    orders\n",
        "))\n",
        "\n",
        "\n",
        "for order in order_values:\n",
        "    print(order)\n",
        "\n"
      ],
      "metadata": {
        "colab": {
          "base_uri": "https://localhost:8080/"
        },
        "id": "ATuUZib-eWza",
        "outputId": "a0a73772-5816-4aab-a19b-2392f0b3ab39"
      },
      "execution_count": 28,
      "outputs": [
        {
          "output_type": "stream",
          "name": "stdout",
          "text": [
            "(4, 122.85000000000001)\n",
            "(5, 170.39999999999998)\n",
            "(3, 108.85000000000001)\n",
            "(3, 84.97)\n"
          ]
        }
      ]
    },
    {
      "cell_type": "markdown",
      "source": [
        "# END OF ASSIGNMENT."
      ],
      "metadata": {
        "id": "4KyJ1jHpe8Kh"
      }
    }
  ]
}